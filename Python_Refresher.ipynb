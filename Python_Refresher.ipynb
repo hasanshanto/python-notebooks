{
  "nbformat": 4,
  "nbformat_minor": 0,
  "metadata": {
    "colab": {
      "provenance": [],
      "toc_visible": true
    },
    "kernelspec": {
      "name": "python3",
      "display_name": "Python 3"
    },
    "language_info": {
      "name": "python"
    }
  },
  "cells": [
    {
      "cell_type": "markdown",
      "source": [
        "## Hello Again!"
      ],
      "metadata": {
        "id": "f6C7Rr8yRqHM"
      }
    },
    {
      "cell_type": "code",
      "execution_count": null,
      "metadata": {
        "colab": {
          "base_uri": "https://localhost:8080/"
        },
        "id": "hC8qcPotRjjk",
        "outputId": "91d29924-cab6-4c62-d030-7c25bc58d3c4"
      },
      "outputs": [
        {
          "output_type": "stream",
          "name": "stdout",
          "text": [
            "Hello World!\n"
          ]
        }
      ],
      "source": [
        "print(\"Hello World!\")"
      ]
    },
    {
      "cell_type": "markdown",
      "source": [
        "## Varibales!"
      ],
      "metadata": {
        "id": "21zICJyFS87j"
      }
    },
    {
      "cell_type": "code",
      "source": [
        "a = 10\n",
        "b = 12\n",
        "\n",
        "print(a + b)"
      ],
      "metadata": {
        "colab": {
          "base_uri": "https://localhost:8080/"
        },
        "id": "WPvdge_wS9SD",
        "outputId": "6437d591-ad60-4440-b8d7-04e96c91cd39"
      },
      "execution_count": null,
      "outputs": [
        {
          "output_type": "stream",
          "name": "stdout",
          "text": [
            "22\n"
          ]
        }
      ]
    },
    {
      "cell_type": "code",
      "source": [
        "name = \"Md Hasibul Hasan\"\n",
        "address = \"Dhaka, Bangladesh\"\n",
        "\n",
        "print(name, '\\n', address)"
      ],
      "metadata": {
        "colab": {
          "base_uri": "https://localhost:8080/"
        },
        "id": "1B2sHybFTE9k",
        "outputId": "1f7ba3f8-1dfd-481b-cdac-0dc129aefbe5"
      },
      "execution_count": null,
      "outputs": [
        {
          "output_type": "stream",
          "name": "stdout",
          "text": [
            "Md Hasibul Hasan \n",
            " Dhaka, Bangladesh\n"
          ]
        }
      ]
    },
    {
      "cell_type": "markdown",
      "source": [
        "## Data Type"
      ],
      "metadata": {
        "id": "6baXXbsoUfAD"
      }
    },
    {
      "cell_type": "markdown",
      "source": [
        "**Integer:** 10\n",
        "\n",
        "**Float:** 3.5\n",
        "\n",
        "**String:** \"Such a lovely day\""
      ],
      "metadata": {
        "id": "RXr4lK5iUju0"
      }
    },
    {
      "cell_type": "markdown",
      "source": [
        "## User input!\n"
      ],
      "metadata": {
        "id": "BnT6bcEuU5Uy"
      }
    },
    {
      "cell_type": "code",
      "source": [
        "first_number = 10\n",
        "# Every keyboard input is a string. we need to type cast them to required data type\n",
        "second_number = int(input(\"Enter a number \"))\n",
        "\n",
        "print(\"Sum:\", first_number + second_number)"
      ],
      "metadata": {
        "colab": {
          "base_uri": "https://localhost:8080/"
        },
        "id": "Plagp4KmUik8",
        "outputId": "d562ea47-8db6-4a07-97a5-3bdfcb069be7"
      },
      "execution_count": null,
      "outputs": [
        {
          "output_type": "stream",
          "name": "stdout",
          "text": [
            "Enter a number 13\n",
            "Sum: 23\n"
          ]
        }
      ]
    },
    {
      "cell_type": "markdown",
      "source": [
        "## Operators"
      ],
      "metadata": {
        "id": "_1mCcheYWfeU"
      }
    },
    {
      "cell_type": "markdown",
      "source": [
        "**Arithmatic:** +,-,*,/\n",
        "\n",
        "**Comparison:** >, >=, <, <=, =\n",
        "\n",
        "**Logical:** AND, OR, NOT"
      ],
      "metadata": {
        "id": "sYOW3KM4XHP7"
      }
    },
    {
      "cell_type": "markdown",
      "source": [
        "## Conditional Statement"
      ],
      "metadata": {
        "id": "YDEezbSAZwaC"
      }
    },
    {
      "cell_type": "code",
      "source": [
        "age = int(input(\"Enter your Age: \"))\n",
        "\n",
        "if age >= 30:\n",
        "  print(\"Senior\")\n",
        "else:\n",
        "  print(\"Junior\")\n"
      ],
      "metadata": {
        "colab": {
          "base_uri": "https://localhost:8080/"
        },
        "id": "9FKGpwTgTLeI",
        "outputId": "f2d356cf-50c8-41ba-9238-430e9bca5d2d"
      },
      "execution_count": null,
      "outputs": [
        {
          "output_type": "stream",
          "name": "stdout",
          "text": [
            "Enter your Age: 36\n",
            "Senior\n"
          ]
        }
      ]
    },
    {
      "cell_type": "markdown",
      "source": [
        "## Loop"
      ],
      "metadata": {
        "id": "rCx8prsG0XXB"
      }
    },
    {
      "cell_type": "markdown",
      "source": [
        "### For Loop"
      ],
      "metadata": {
        "id": "QwnNflo12F15"
      }
    },
    {
      "cell_type": "code",
      "source": [
        "for i in range(5):\n",
        "  print(i)"
      ],
      "metadata": {
        "colab": {
          "base_uri": "https://localhost:8080/"
        },
        "id": "p7eNREMYXNIk",
        "outputId": "b6efa087-3cb2-492c-f105-a6c1c5bc10bd"
      },
      "execution_count": null,
      "outputs": [
        {
          "output_type": "stream",
          "name": "stdout",
          "text": [
            "0\n",
            "1\n",
            "2\n",
            "3\n",
            "4\n"
          ]
        }
      ]
    },
    {
      "cell_type": "code",
      "source": [
        "# range (start, end, step)\n",
        "# start is inclusive but end is exlusive\n",
        "for i in range(1, 16, 1):\n",
        "  print(i)"
      ],
      "metadata": {
        "colab": {
          "base_uri": "https://localhost:8080/"
        },
        "id": "b_j8XMY-0mC3",
        "outputId": "1e9ee736-a4cf-4d3a-d9af-7e2c5cdece44"
      },
      "execution_count": null,
      "outputs": [
        {
          "output_type": "stream",
          "name": "stdout",
          "text": [
            "1\n",
            "2\n",
            "3\n",
            "4\n",
            "5\n",
            "6\n",
            "7\n",
            "8\n",
            "9\n",
            "10\n",
            "11\n",
            "12\n",
            "13\n",
            "14\n",
            "15\n"
          ]
        }
      ]
    },
    {
      "cell_type": "code",
      "source": [
        "# print only even numbers\n",
        "for i in range(0,21,2):\n",
        "  print(i)"
      ],
      "metadata": {
        "colab": {
          "base_uri": "https://localhost:8080/"
        },
        "id": "XWifcdBw1NNv",
        "outputId": "12fea563-f0bf-4d2e-ae4d-503c24ad3d99"
      },
      "execution_count": null,
      "outputs": [
        {
          "output_type": "stream",
          "name": "stdout",
          "text": [
            "0\n",
            "2\n",
            "4\n",
            "6\n",
            "8\n",
            "10\n",
            "12\n",
            "14\n",
            "16\n",
            "18\n",
            "20\n"
          ]
        }
      ]
    },
    {
      "cell_type": "code",
      "source": [
        "# print only odd numbers\n",
        "for i in range(1,21,2):\n",
        "  print(i)"
      ],
      "metadata": {
        "colab": {
          "base_uri": "https://localhost:8080/"
        },
        "id": "e107aNut0-gh",
        "outputId": "59200a70-b3a2-4a99-dd5e-fdcee0fefd3a"
      },
      "execution_count": null,
      "outputs": [
        {
          "output_type": "stream",
          "name": "stdout",
          "text": [
            "1\n",
            "3\n",
            "5\n",
            "7\n",
            "9\n",
            "11\n",
            "13\n",
            "15\n",
            "17\n",
            "19\n"
          ]
        }
      ]
    },
    {
      "cell_type": "code",
      "source": [
        "# printing sum of series\n",
        "sum = 0\n",
        "for i in range(1,11):\n",
        "  sum += i\n",
        "\n",
        "print(sum)"
      ],
      "metadata": {
        "colab": {
          "base_uri": "https://localhost:8080/"
        },
        "id": "YjxfxzwF1YLn",
        "outputId": "c68df114-ef5b-4ce3-ac3e-b7ecdbd42ebb"
      },
      "execution_count": null,
      "outputs": [
        {
          "output_type": "stream",
          "name": "stdout",
          "text": [
            "55\n"
          ]
        }
      ]
    },
    {
      "cell_type": "code",
      "source": [
        "# printing sum of odd numbers only\n",
        "sum = 0\n",
        "for i in range(1,11,2):\n",
        "  sum += i\n",
        "\n",
        "print(sum)"
      ],
      "metadata": {
        "colab": {
          "base_uri": "https://localhost:8080/"
        },
        "id": "-E7Sdv7c1nWx",
        "outputId": "b186915a-8366-428a-867c-c41fe9a0c9d8"
      },
      "execution_count": null,
      "outputs": [
        {
          "output_type": "stream",
          "name": "stdout",
          "text": [
            "25\n"
          ]
        }
      ]
    },
    {
      "cell_type": "code",
      "source": [
        "# printing sum of odd numbers only\n",
        "sum = 0\n",
        "for i in range(11):\n",
        "  if i%2 == 0:\n",
        "    # continue means keep continue but do nothing\n",
        "    continue\n",
        "  else:\n",
        "    sum += i\n",
        "\n",
        "print(sum)"
      ],
      "metadata": {
        "colab": {
          "base_uri": "https://localhost:8080/"
        },
        "id": "LR4Oe3Mq1vlY",
        "outputId": "045d49e7-c1d3-4c47-d30b-a775fed1db19"
      },
      "execution_count": null,
      "outputs": [
        {
          "output_type": "stream",
          "name": "stdout",
          "text": [
            "25\n"
          ]
        }
      ]
    },
    {
      "cell_type": "markdown",
      "source": [
        "### While Loop"
      ],
      "metadata": {
        "id": "OFPLVwRB2JQe"
      }
    },
    {
      "cell_type": "code",
      "source": [
        "sum = 0\n",
        "i = 0\n",
        "while i < 11:\n",
        "  sum += i\n",
        "  i += 1\n",
        "\n",
        "print(sum)"
      ],
      "metadata": {
        "colab": {
          "base_uri": "https://localhost:8080/"
        },
        "id": "jWXXjbDa2DaR",
        "outputId": "581f6e8a-f410-4f9e-a8eb-fe454cb1a8a7"
      },
      "execution_count": null,
      "outputs": [
        {
          "output_type": "stream",
          "name": "stdout",
          "text": [
            "55\n"
          ]
        }
      ]
    },
    {
      "cell_type": "code",
      "source": [
        "sum = 0\n",
        "i = 0\n",
        "while i < 11:\n",
        "  if i%2== 0:\n",
        "    i+= 1 # skipping this condition will result in an infinite loop\n",
        "    continue\n",
        "  else:\n",
        "    sum += i\n",
        "  i += 1\n",
        "\n",
        "print(sum)"
      ],
      "metadata": {
        "colab": {
          "base_uri": "https://localhost:8080/"
        },
        "id": "PO-94dZ82TaC",
        "outputId": "7841f46e-27db-4eaa-a31e-7937daa66f4d"
      },
      "execution_count": null,
      "outputs": [
        {
          "output_type": "stream",
          "name": "stdout",
          "text": [
            "25\n"
          ]
        }
      ]
    },
    {
      "cell_type": "code",
      "source": [
        "fruits = ['Mango', 'Banana', 'Apple']\n",
        "\n",
        "for fruit in fruits:\n",
        "  print(fruit)"
      ],
      "metadata": {
        "colab": {
          "base_uri": "https://localhost:8080/"
        },
        "id": "btgghQf7vrn-",
        "outputId": "b18df4a4-7f6b-42c6-e4f1-a34cad38e6e7"
      },
      "execution_count": 2,
      "outputs": [
        {
          "output_type": "stream",
          "name": "stdout",
          "text": [
            "Mango\n",
            "Banana\n",
            "Apple\n"
          ]
        }
      ]
    },
    {
      "cell_type": "markdown",
      "source": [
        "## Function"
      ],
      "metadata": {
        "id": "mpFAu3MyviOH"
      }
    },
    {
      "cell_type": "code",
      "source": [
        "def add_func(a, b):\n",
        "  return a+b\n",
        "\n",
        "def sub_func(a, b):\n",
        "  return a-b\n",
        "\n",
        "def prod_func(a,b):\n",
        "  return a*b\n",
        "\n",
        "def div_func(a,b):\n",
        "  if b>0:\n",
        "    return a/b\n",
        "  else:\n",
        "    return \"Zero Division Error!\"\n",
        "\n",
        "\n",
        "sum = add_func(10,7)\n",
        "print(\"Addition:\", sum)\n",
        "\n",
        "sub = sub_func(5,10)\n",
        "print(\"Subtraction:\", sub)\n",
        "\n",
        "mult = prod_func(5,6)\n",
        "print(\"Product:\",mult)\n",
        "\n",
        "div = div_func(10,0)\n",
        "print(\"Division:\", div)"
      ],
      "metadata": {
        "colab": {
          "base_uri": "https://localhost:8080/"
        },
        "id": "r9P0ehGBvmMJ",
        "outputId": "779b033c-ea3a-4a29-9532-b9fe2827b66a"
      },
      "execution_count": 6,
      "outputs": [
        {
          "output_type": "stream",
          "name": "stdout",
          "text": [
            "Addition: 17\n",
            "Subtraction: -5\n",
            "Product: 30\n",
            "Division: Zero Division Error!\n"
          ]
        }
      ]
    }
  ]
}