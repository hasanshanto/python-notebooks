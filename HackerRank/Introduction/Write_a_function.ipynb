{
  "nbformat": 4,
  "nbformat_minor": 0,
  "metadata": {
    "colab": {
      "provenance": [],
      "toc_visible": true
    },
    "kernelspec": {
      "name": "python3",
      "display_name": "Python 3"
    },
    "language_info": {
      "name": "python"
    }
  },
  "cells": [
    {
      "cell_type": "code",
      "execution_count": 6,
      "metadata": {
        "colab": {
          "base_uri": "https://localhost:8080/"
        },
        "id": "UL-Mcm1Rm2U1",
        "outputId": "968fe578-937b-44a0-c45e-657fda7bd111"
      },
      "outputs": [
        {
          "output_type": "stream",
          "name": "stdout",
          "text": [
            "1995\n",
            "False\n"
          ]
        }
      ],
      "source": [
        "def is_leap(year):\n",
        "\n",
        "    # Write your logic here\n",
        "    if (year %4 == 0) and (year %100 != 0):\n",
        "        leap = True\n",
        "    elif (year % 400 == 0) and (year % 100 == 0):\n",
        "        leap = True\n",
        "    else:\n",
        "        leap = False\n",
        "    \n",
        "    return leap\n",
        "\n",
        "    \n",
        "year = int(input())\n",
        "print(is_leap(year))"
      ]
    }
  ]
}