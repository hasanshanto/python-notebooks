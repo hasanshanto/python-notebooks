{
  "nbformat": 4,
  "nbformat_minor": 0,
  "metadata": {
    "colab": {
      "provenance": [],
      "toc_visible": true
    },
    "kernelspec": {
      "name": "python3",
      "display_name": "Python 3"
    },
    "language_info": {
      "name": "python"
    }
  },
  "cells": [
    {
      "cell_type": "code",
      "execution_count": null,
      "metadata": {
        "colab": {
          "base_uri": "https://localhost:8080/"
        },
        "id": "UL-Mcm1Rm2U1",
        "outputId": "d8ed45f0-7333-4c55-f7a9-02d5cff444a5"
      },
      "outputs": [
        {
          "output_type": "stream",
          "name": "stdout",
          "text": [
            "5\n",
            "6 9 10 8 8\n",
            "9\n"
          ]
        }
      ],
      "source": [
        "if __name__ == '__main__':\n",
        "    a = []\n",
        "    for _ in range(int(input())):\n",
        "        name = input()\n",
        "        score = float(input())\n",
        "        a.append([name,score])\n",
        "        \n",
        "    score = []\n",
        "    for i in a:\n",
        "        score.append(i[1])\n",
        "        \n",
        "    scores = list(set(score))\n",
        "    scores.sort()\n",
        "    scnd_score = scores[1]\n",
        "    names = []\n",
        "    for i in a:\n",
        "        if scnd_score == i[1]:\n",
        "            names.append(i[0])\n",
        "    names.sort()\n",
        "    print(*names, sep='\\n')"
      ]
    }
  ]
}